{
 "cells": [
  {
   "cell_type": "code",
   "execution_count": 1,
   "metadata": {},
   "outputs": [
    {
     "name": "stdout",
     "output_type": "stream",
     "text": [
      "pygame 1.9.4\n",
      "Hello from the pygame community. https://www.pygame.org/contribute.html\n"
     ]
    }
   ],
   "source": [
    "import cv2\n",
    "import numpy as np\n",
    "import time\n",
    "import glob\n",
    "import math\n",
    "import sys\n",
    "import random\n",
    "import os.path as osp\n",
    "import pygame\n",
    "import os\n",
    "from socket import *\n",
    "\n"
   ]
  },
  {
   "cell_type": "code",
   "execution_count": 2,
   "metadata": {},
   "outputs": [],
   "source": [
    "host = \"10.194.86.156\" # set to IP address of target computer\n",
    "port = 1234\n",
    "addr = (host, port)\n",
    "UDPSock = socket(AF_INET, SOCK_DGRAM)"
   ]
  },
  {
   "cell_type": "code",
   "execution_count": null,
   "metadata": {},
   "outputs": [],
   "source": [
    "# Jinxin Function\n",
    "#cap_top = cv2.VideoCapture(0)\n",
    "USE_CAMERA = 1        \n",
    "if USE_CAMERA:\n",
    "    # USB camera setup\n",
    "    cap_top = cv2.VideoCapture(1)\n",
    "    if cap_top.isOpened() is False:\n",
    "        raise(\"IO Error\")\n",
    "    cap_top.set(cv2.CAP_PROP_FPS, 30)\n",
    "    cap_top.set(cv2.CAP_PROP_FRAME_WIDTH, 640)\n",
    "    cap_top.set(cv2.CAP_PROP_FRAME_HEIGHT, 480)\n",
    "\n",
    "windowWidth = 640\n",
    "windowHeight = 480\n",
    "\n",
    "#cap_top.set(cv2.CAP_PROP_FPS, 30)\n",
    "area_lim2 = 650\n",
    "hit_side_count = 0\n",
    "p_side_time = time.time()\n",
    "n_side_time = time.time()\n",
    "\n",
    "\n",
    "pygame.init()\n",
    "ka = pygame.mixer.Sound('Ka.WAV')"
   ]
  },
  {
   "cell_type": "code",
   "execution_count": null,
   "metadata": {},
   "outputs": [],
   "source": [
    "while(1):\n",
    "    \n",
    "    global hit_side_count\n",
    "    global n_side_time\n",
    "    global p_side_time\n",
    "    \n",
    "    \n",
    "    side_flag = None\n",
    "    ret, frame = cap_top.read()\n",
    "    cv2.imshow('frame', frame)\n",
    "    data = '0'\n",
    "    \n",
    "    cv2.rectangle(frame,(170,170),(400,400),(0,255,0),0)            \n",
    "\n",
    "    crop_image  = frame[170:400, 170:400]\n",
    "    output = crop_image .copy()\n",
    "    gray = cv2.cvtColor(frame,cv2.COLOR_BGR2GRAY)\n",
    "\n",
    "\n",
    "    ret, frame = cap_top.read()\n",
    "    crop_image  = frame[170:400, 170:400]\n",
    "    frame_diff = cv2.absdiff(crop_image, output)\n",
    "    gray_diff = cv2.cvtColor(frame_diff, cv2.COLOR_BGR2GRAY)\n",
    "    cv2.imshow('frame', frame)\n",
    "    #cv2.circle(frame, (x, y), r, (0, 255, 0), 4)\n",
    "\n",
    "\n",
    "    \n",
    "    #par = np.int64(scaler*r)\n",
    "    retval, thresh = cv2.threshold(gray_diff, 128, 255, cv2.THRESH_BINARY)\n",
    "    #thresh_cut = cv2.resize(thresh[y-par:y+par,x-par:x+par],(mask_h,mask_w))\n",
    "\n",
    "    cv2.imshow('frame4',thresh)\n",
    "\n",
    "    #detect_stick_side(thresh_cut)\n",
    "    _,cnt,hierarchy= cv2.findContours(thresh.astype('uint8'),cv2.RETR_TREE,cv2.CHAIN_APPROX_SIMPLE)\n",
    "    area_list = []\n",
    "    for i in range(len(cnt)):\n",
    "        area_list.append(cv2.contourArea(cnt[i]))\n",
    "    max_area = max(area_list, default=0)\n",
    "    #print(max_area)\n",
    "    if max_area> area_lim2:\n",
    "        data = '1'\n",
    "        #data = input('hit')\n",
    "        ka.play()\n",
    "        #data = '1'\n",
    "    \n",
    "    #data = input(\"Enter message to send or type 'exit': \")\n",
    "    data = data.encode()\n",
    "    UDPSock.sendto(data, addr)\n",
    "    if data == \"exit\":\n",
    "        break\n",
    "    \n",
    "    if cv2.waitKey(1) & 0xFF == ord('q'):\n",
    "        break \n",
    "cap_top.release()\n",
    "cv2.destroyAllWindows()\n",
    "UDPSock.close()\n",
    "os._exit(0)"
   ]
  },
  {
   "cell_type": "code",
   "execution_count": null,
   "metadata": {
    "collapsed": true
   },
   "outputs": [],
   "source": []
  },
  {
   "cell_type": "code",
   "execution_count": null,
   "metadata": {
    "collapsed": true
   },
   "outputs": [],
   "source": []
  }
 ],
 "metadata": {
  "kernelspec": {
   "display_name": "Python 3",
   "language": "python",
   "name": "python3"
  },
  "language_info": {
   "codemirror_mode": {
    "name": "ipython",
    "version": 3
   },
   "file_extension": ".py",
   "mimetype": "text/x-python",
   "name": "python",
   "nbconvert_exporter": "python",
   "pygments_lexer": "ipython3",
   "version": "3.6.4"
  }
 },
 "nbformat": 4,
 "nbformat_minor": 2
}

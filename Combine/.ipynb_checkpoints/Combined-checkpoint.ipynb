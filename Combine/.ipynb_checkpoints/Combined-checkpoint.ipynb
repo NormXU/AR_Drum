{
 "cells": [
  {
   "cell_type": "code",
   "execution_count": 1,
   "metadata": {
    "collapsed": false,
    "deletable": true,
    "editable": true
   },
   "outputs": [
    {
     "name": "stdout",
     "output_type": "stream",
     "text": [
      "pygame 1.9.4\n",
      "Hello from the pygame community. https://www.pygame.org/contribute.html\n"
     ]
    }
   ],
   "source": [
    "from OpenGL.GL import *\n",
    "from OpenGL.GLU import *\n",
    "from OpenGL.GLUT import *\n",
    "import cv2\n",
    "import numpy as np\n",
    "import time\n",
    "import glob\n",
    "USE_CAMERA = True\n",
    "import math\n",
    "import graphics\n",
    "import sys\n",
    "import os.path as osp\n",
    "import pygame\n",
    "import sys"
   ]
  },
  {
   "cell_type": "code",
   "execution_count": 2,
   "metadata": {
    "collapsed": true,
    "deletable": true,
    "editable": true
   },
   "outputs": [],
   "source": [
    "DEFAULT_THRESHOLD = 32\n",
    "m_pre = None\n",
    "n_pre = None\n",
    "# Load Sound Effect\n",
    "pygame.init()\n",
    "s = s = pygame.mixer.Sound('Dong.WAV')"
   ]
  },
  {
   "cell_type": "code",
   "execution_count": 3,
   "metadata": {
    "collapsed": true,
    "deletable": true,
    "editable": true
   },
   "outputs": [],
   "source": [
    "# Set Rhythm\n",
    "pygame.mixer.pre_init(44100,16,2,4096)\n",
    "pygame.init()\n",
    "pygame.mixer.music.load(\"P5.mp3\")\n",
    "pygame.mixer.music.set_volume(0.5)\n",
    "\n",
    "speed = 17\n",
    "move_buffer = int(1)"
   ]
  },
  {
   "cell_type": "code",
   "execution_count": 4,
   "metadata": {
    "collapsed": true,
    "deletable": true,
    "editable": true
   },
   "outputs": [],
   "source": [
    "# Set AR\n",
    "aruco = cv2.aruco\n",
    "dictionary = aruco.Dictionary_get(aruco.DICT_6X6_250)"
   ]
  },
  {
   "cell_type": "code",
   "execution_count": 5,
   "metadata": {
    "collapsed": true,
    "deletable": true,
    "editable": true
   },
   "outputs": [],
   "source": [
    "# Camera Calibration\n",
    "# termination criteria\n",
    "criteria = (cv2.TERM_CRITERIA_EPS + cv2.TERM_CRITERIA_MAX_ITER, 30, 0.001)\n",
    "\n",
    "# prepare object points, like (0,0,0), (1,0,0), (2,0,0) ....,(6,5,0)\n",
    "objp = np.zeros((6*7,3), np.float32)\n",
    "objp[:,:2] = np.mgrid[0:7,0:6].T.reshape(-1,2)\n",
    "\n",
    "# Arrays to store object points and image points from all the images.\n",
    "objpoints = [] # 3d point in real world space\n",
    "imgpoints = [] # 2d points in image plane.\n",
    "\n",
    "images = glob.glob('calib_images/*.jpg')\n",
    "\n",
    "for fname in images:\n",
    "    img = cv2.imread(fname)\n",
    "    img = cv2.flip(img, 1)\n",
    "    gray = cv2.cvtColor(img,cv2.COLOR_BGR2GRAY)\n",
    "\n",
    "    # Find the chess board corners\n",
    "    ret, corners = cv2.findChessboardCorners(gray, (7,6),None)\n",
    "\n",
    "    # If found, add object points, image points (after refining them)\n",
    "    if ret == True:\n",
    "        objpoints.append(objp)\n",
    "\n",
    "        corners2 = cv2.cornerSubPix(gray,corners,(11,11),(-1,-1),criteria)\n",
    "        imgpoints.append(corners2)\n",
    "\n",
    "        # Draw and display the corners\n",
    "        img = cv2.drawChessboardCorners(img, (7,6), corners2,ret)\n",
    "\n",
    "\n",
    "ret, mtx, dist, rvecs, tvecs = cv2.calibrateCamera(objpoints, imgpoints, gray.shape[::-1],None,None)"
   ]
  },
  {
   "cell_type": "code",
   "execution_count": 6,
   "metadata": {
    "collapsed": true,
    "deletable": true,
    "editable": true
   },
   "outputs": [],
   "source": [
    "alpha = mtx[0][0]\n",
    "beta = mtx[1][1]\n",
    "cx = mtx[0][2]\n",
    "cy = mtx[1][2]"
   ]
  },
  {
   "cell_type": "code",
   "execution_count": 7,
   "metadata": {
    "collapsed": true,
    "deletable": true,
    "editable": true
   },
   "outputs": [],
   "source": [
    "if USE_CAMERA:\n",
    "    # USB camera setup\n",
    "    cap = cv2.VideoCapture(0)\n",
    "    if cap.isOpened() is False:\n",
    "        raise(\"IO Error\")\n",
    "    cap.set(cv2.CAP_PROP_FPS, 30)\n",
    "    cap.set(cv2.CAP_PROP_FRAME_WIDTH, 640)\n",
    "    cap.set(cv2.CAP_PROP_FRAME_HEIGHT, 480)\n",
    "\n",
    "windowWidth = 640\n",
    "windowHeight = 480"
   ]
  },
  {
   "cell_type": "code",
   "execution_count": 8,
   "metadata": {
    "collapsed": true,
    "deletable": true,
    "editable": true
   },
   "outputs": [],
   "source": [
    "def drawmodel(filename):\n",
    "    obj = graphics.ObjLoader(filename)\n",
    "    return obj"
   ]
  },
  {
   "cell_type": "code",
   "execution_count": 9,
   "metadata": {
    "collapsed": false,
    "deletable": true,
    "editable": true
   },
   "outputs": [],
   "source": [
    "obj = drawmodel('scene.txt')"
   ]
  },
  {
   "cell_type": "code",
   "execution_count": 10,
   "metadata": {
    "collapsed": false,
    "deletable": true,
    "editable": true
   },
   "outputs": [],
   "source": [
    "def draw():\n",
    "\n",
    "    ret, img = cap.read() #read camera image\n",
    "    \n",
    "    frame = cv2.flip(img, 1)\n",
    "    global m_pre\n",
    "    global n_pre\n",
    "    global speed\n",
    "    global move_buffer\n",
    "    \n",
    "    hit_flag = None\n",
    "    diff_distance = 1000\n",
    "    \n",
    "    h, w = frame.shape[:2]\n",
    "    prev_frame = frame.copy()\n",
    "    motion_history = np.zeros((h, w), np.float32)\n",
    "    mask_map = np.zeros((h, w), np.uint8)\n",
    "    timestamp = 0\n",
    "    \n",
    "    ret, frame = cap.read()\n",
    "    frame = cv2.flip(frame, 1)\n",
    "    frame_diff = cv2.absdiff(frame, prev_frame)\n",
    "    gray_diff = cv2.cvtColor(frame_diff, cv2.COLOR_BGR2GRAY)\n",
    "    #cv2.imshow('raw',frame_diff)\n",
    "    _,fgmask = cv2.threshold(gray_diff, DEFAULT_THRESHOLD, 255, cv2.THRESH_BINARY)\n",
    "    kernel = np.ones((5,5))\n",
    "    \n",
    "    try:\n",
    "        #print(1)\n",
    "        frame_show = frame.copy()\n",
    "        dilate_mask = cv2.dilate(fgmask,kernel,iterations = 6)\n",
    "        potential_stick = cv2.bitwise_and(frame_show,frame_show,mask = fgmask)\n",
    "        \n",
    "        resColored = cv2.bitwise_and(frame_show,frame_show,mask = dilate_mask)\n",
    "        \n",
    "        blur = cv2.blur(resColored,(3,3), 0)\n",
    "        hsv = cv2.cvtColor(blur, cv2.COLOR_BGR2HSV)\n",
    "        lower_range = np.array([2,0,0])\n",
    "        upper_range = np.array([16,255,255])\n",
    "        \n",
    "        Hand_mask = cv2.inRange(hsv,lower_range,upper_range)\n",
    "        filtered = cv2.GaussianBlur(Hand_mask, (15,15), 1)\n",
    "        ret,thresh = cv2.threshold(filtered, 127, 255, 0)\n",
    "        DeleteHand_mask = cv2.dilate(thresh,kernel,iterations = 10)\n",
    "        cv2.imshow('DeleteHand_mask',DeleteHand_mask)\n",
    "        \n",
    "        [x_coor,y_coor] = np.where(DeleteHand_mask==255)\n",
    "        \n",
    "        dilate_mask[x_coor,y_coor] = 0\n",
    "        \n",
    "        \n",
    "        _,contours,hierarchy= cv2.findContours(dilate_mask,cv2.RETR_TREE,cv2.CHAIN_APPROX_SIMPLE)\n",
    "        areas = [cv2.contourArea(c) for c in contours]\n",
    "        if np.max(areas) > 1200:\n",
    "            max_index = np.argmax(areas)\n",
    "            cnt=contours[max_index]\n",
    "            for c in cnt:\n",
    "                cv2.drawContours(frame_show, [c], 0, (0,255,0), 3)\n",
    "            x,y,w,h = cv2.boundingRect(cnt)\n",
    "            cv2.rectangle(frame_show,(x,y),(x+w,y+h),(0,255,0),2)\n",
    "            m = int(x+ 0.5*w)\n",
    "            n = int(y+ 0.5*h)\n",
    "            cv2.circle(frame_show,(m,n), 25, (255,0,0), 10)\n",
    "            \n",
    "                \n",
    "            # Set Flag and Play Sound Effect\n",
    "            if m_pre is None and n_pre is None:\n",
    "                m_pre = m\n",
    "                n_pre = n\n",
    "                    \n",
    "            else:\n",
    "                #if (n_pre-n>30):\n",
    "                #    cv2.putText(frame_show,\"Go Up\", (50,50), cv2.FONT_HERSHEY_SIMPLEX, 2, 2)\n",
    "                if (n_pre-n<-40):\n",
    "                    cv2.putText(frame_show,\"Hit\", (50,50), cv2.FONT_HERSHEY_SIMPLEX, 2, 2)\n",
    "                    s.play()\n",
    "                    hit_flag = 1\n",
    "                    \n",
    "                    #print(n)\n",
    "                n_pre = n\n",
    "        cv2.imshow('raw',frame_show)\n",
    "        \n",
    "        \n",
    "        \n",
    "        \n",
    "        \n",
    "    except:\n",
    "        pass\n",
    "    \n",
    "    \n",
    "    # Aruco\n",
    "    corners, ids, rejectedImgPoints = aruco.detectMarkers(img, dictionary)\n",
    "    rvec, tvec, _objPoints = aruco.estimatePoseSingleMarkers(corners, 8.0, mtx, dist)\n",
    "    if not ids is None:\n",
    "        # draw axis and center circle\n",
    "        aruco.drawAxis(img, mtx, dist, rvec[0], tvec[0], 8.0)\n",
    "        aruco.drawDetectedMarkers(img, corners) #Draw A square around the markers\n",
    "    \n",
    "    \n",
    "    \n",
    "    \n",
    "    # Load Game Component before 3d \n",
    "        \n",
    "    img= cv2.cvtColor(img,cv2.COLOR_BGR2RGB) #BGR-->RGB\n",
    "    h, w = img.shape[:2]\n",
    "    cv2.circle(img,(int(h/2),100), 25, (130,136,145), 10)\n",
    "    \n",
    "    if hit_flag==1:\n",
    "        cv2.putText(img,\"Hit\", (100,100), cv2.FONT_HERSHEY_SIMPLEX, 2, 2)\n",
    "        cv2.circle(img,(int(h/2),100), 25, (255,0,0), 10)\n",
    "        hit_position = int(w - int(speed*move_buffer))\n",
    "        diff_distance = np.abs(hit_position - int(h/2))\n",
    "    \n",
    "    if diff_distance > 50:\n",
    "        if (int(w - int(speed*move_buffer)>0)):\n",
    "            cv2.circle(img,(int(w - int(speed*move_buffer)),100), 25, (0,0,255), 10)\n",
    "            move_buffer = move_buffer + 1\n",
    "        else:\n",
    "            move_buffer = 0\n",
    "    else:\n",
    "        move_buffer = 0    \n",
    "    \n",
    "        \n",
    "        \n",
    "        \n",
    "        \n",
    "        \n",
    "    \n",
    "\n",
    "\n",
    "    glTexImage2D(GL_TEXTURE_2D, 0, GL_RGB, w, h, 0, GL_RGB, GL_UNSIGNED_BYTE, img)\n",
    "\n",
    "    ## Enable / Disable\n",
    "    glDisable(GL_DEPTH_TEST)    # Disable GL_DEPTH_TEST\n",
    "    glDisable(GL_LIGHTING)      # Disable Light\n",
    "    glDisable(GL_LIGHT0)        # Disable Light\n",
    "    glEnable(GL_TEXTURE_2D)     # Enable texture map\n",
    "\n",
    "    ## init\n",
    "    glClear(GL_COLOR_BUFFER_BIT | GL_DEPTH_BUFFER_BIT)  # Clear Buffer\n",
    "    glColor3f(1.0, 1.0, 1.0)    # Set texture Color(RGB: 0.0 ~ 1.0)\n",
    "    glTexParameteri(GL_TEXTURE_2D, GL_TEXTURE_MIN_FILTER, GL_LINEAR)\n",
    "    glTexParameteri(GL_TEXTURE_2D, GL_TEXTURE_MAG_FILTER, GL_LINEAR)\n",
    "\n",
    "    ## draw background\n",
    "    glMatrixMode(GL_PROJECTION)\n",
    "    glLoadIdentity()\n",
    "    glPushMatrix()\n",
    "    glBegin(GL_QUADS)\n",
    "    glTexCoord2d(0.0, 1.0)\n",
    "    glVertex3d(-1.0, -1.0,  0)\n",
    "    glTexCoord2d(1.0, 1.0)\n",
    "    glVertex3d( 1.0, -1.0,  0)\n",
    "    glTexCoord2d(1.0, 0.0)\n",
    "    glVertex3d( 1.0,  1.0,  0)\n",
    "    glTexCoord2d(0.0, 0.0)\n",
    "    glVertex3d(-1.0,  1.0,  0)\n",
    "    glEnd()\n",
    "    glPopMatrix()\n",
    "\n",
    "    ## Enable / Disable\n",
    "    glEnable(GL_DEPTH_TEST)     # Enable GL_DEPTH_TEST\n",
    "    glEnable(GL_LIGHTING)       # Enable Light\n",
    "    glEnable(GL_LIGHT0)         # Enable Light\n",
    "    glDisable(GL_TEXTURE_2D)    # Disable texture map\n",
    "\n",
    "    ## make projection matrix\n",
    "    f = 1000.0  #far\n",
    "    n = 1.0     #near\n",
    "\n",
    "    m1 = np.array([\n",
    "    [(alpha)/cx, 0, 0, 0],\n",
    "    [0, beta/cy, 0, 0],\n",
    "    [0, 0, -(f+n)/(f-n), (-2.0*f*n)/(f-n)],\n",
    "    [0,0,-1,0],\n",
    "    ])\n",
    "    glLoadMatrixd(m1.T)\n",
    "\n",
    "    ## draw cube\n",
    "    glMatrixMode(GL_MODELVIEW)\n",
    "    glLoadIdentity()\n",
    "    glPushMatrix()\n",
    "    \n",
    "    # Change the color of Cube\n",
    "    if hit_flag == 1:\n",
    "        glMaterialfv(GL_FRONT_AND_BACK, GL_AMBIENT_AND_DIFFUSE, [0.9,0.1,0.1,1.0])\n",
    "        #time.sleep(0.1) \n",
    "    else:\n",
    "        glMaterialfv(GL_FRONT_AND_BACK, GL_AMBIENT_AND_DIFFUSE, [0.8,0.7,0.6,1.0])\n",
    "        \n",
    "    # If find Tag    \n",
    "    if not ids is None:\n",
    "        # fix axis\n",
    "        tvec[0][0][0] = tvec[0][0][0]\n",
    "        tvec[0][0][1] = -tvec[0][0][1]\n",
    "        tvec[0][0][2] = -tvec[0][0][2]\n",
    "\n",
    "        rvec[0][0][1] = -rvec[0][0][1]\n",
    "        rvec[0][0][2] = -rvec[0][0][2]\n",
    "        m = compositeArray(cv2.Rodrigues(rvec)[0], tvec[0][0])\n",
    "        glPushMatrix()\n",
    "        glLoadMatrixd(m.T)\n",
    "\n",
    "        glTranslatef(0, 0, -0.5)\n",
    "        \n",
    "        \n",
    "        # Here Draw Model On the Tag\n",
    "        \n",
    "        #glutSolidCube(20.0)\n",
    "        glRotatef(90, 1, 0, 0);\n",
    "        glutSolidCone(20,30,16,16)\n",
    "        #obj.render_scene()\n",
    "        #obj.render_texture(surface_id,((0,0),(2,0),(2,2),(0,2)))\n",
    "        glPopMatrix()\n",
    "\n",
    "    glPopMatrix()\n",
    "\n",
    "    # flush drawing routines to the window\n",
    "    glFlush();\n",
    "    glutSwapBuffers()\n"
   ]
  },
  {
   "cell_type": "code",
   "execution_count": null,
   "metadata": {
    "collapsed": true,
    "deletable": true,
    "editable": true
   },
   "outputs": [],
   "source": [
    "def compositeArray(rvec, tvec):\n",
    "    v = np.c_[rvec, tvec.T]\n",
    "    v_ = np.r_[v, np.array([[0,0,0,1]])]\n",
    "    return v_\n",
    "\n",
    "def init():\n",
    "    glClearColor(0.0, 0.0, 0.0, 1.0)\n",
    "    glEnable(GL_DEPTH_TEST)\n",
    "\n",
    "    glEnable(GL_LIGHTING)\n",
    "    glEnable(GL_LIGHT0)\n",
    "    pygame.mixer.music.play(-1)\n",
    "\n",
    "def idle():\n",
    "    glutPostRedisplay()\n",
    "\n",
    "def reshape(w, h):\n",
    "    glViewport(0, 0, w, h)\n",
    "    glLoadIdentity()\n",
    "    glOrtho(-w / windowWidth, w / windowWidth, -h / windowHeight, h / windowHeight, -1.0, 1.0)\n",
    "\n",
    "def keyboard(key, x, y):\n",
    "    # convert byte to str\n",
    "    key = key.decode('utf-8')\n",
    "    if key == 'q':\n",
    "        print('exit')\n",
    "        sys.exit()"
   ]
  },
  {
   "cell_type": "code",
   "execution_count": null,
   "metadata": {
    "collapsed": false,
    "deletable": true,
    "editable": true
   },
   "outputs": [
    {
     "name": "stdout",
     "output_type": "stream",
     "text": [
      "exit\n"
     ]
    }
   ],
   "source": [
    "if __name__ == \"__main__\":\n",
    "    glutInitWindowPosition(0, 0);\n",
    "    glutInitWindowSize(windowWidth, windowHeight);\n",
    "    glutInit(sys.argv)\n",
    "\n",
    "    glutSetOption(GLUT_ACTION_ON_WINDOW_CLOSE, GLUT_ACTION_GLUTMAINLOOP_RETURNS);\n",
    "    glutInitDisplayMode(GLUT_RGBA | GLUT_DOUBLE | GLUT_DEPTH)\n",
    "    glutCreateWindow(b\"Drum\")\n",
    "    glutDisplayFunc(draw)\n",
    "    glutReshapeFunc(reshape)\n",
    "    glutKeyboardFunc(keyboard)\n",
    "    init()\n",
    "    glutIdleFunc(idle)\n",
    "\n",
    "    glutMainLoop()"
   ]
  },
  {
   "cell_type": "code",
   "execution_count": null,
   "metadata": {
    "collapsed": true,
    "deletable": true,
    "editable": true
   },
   "outputs": [],
   "source": [
    "speed = 7\n",
    "cnt = 1"
   ]
  },
  {
   "cell_type": "code",
   "execution_count": null,
   "metadata": {
    "collapsed": false,
    "deletable": true,
    "editable": true
   },
   "outputs": [],
   "source": [
    "def test():\n",
    "    global speed\n",
    "    global cnt\n",
    "    print(int(speed*cnt))"
   ]
  },
  {
   "cell_type": "code",
   "execution_count": 5,
   "metadata": {
    "collapsed": false,
    "deletable": true,
    "editable": true
   },
   "outputs": [
    {
     "name": "stdout",
     "output_type": "stream",
     "text": [
      "7\n"
     ]
    }
   ],
   "source": [
    "test()"
   ]
  },
  {
   "cell_type": "code",
   "execution_count": null,
   "metadata": {
    "collapsed": true,
    "deletable": true,
    "editable": true
   },
   "outputs": [],
   "source": []
  },
  {
   "cell_type": "code",
   "execution_count": null,
   "metadata": {
    "collapsed": true,
    "deletable": true,
    "editable": true
   },
   "outputs": [],
   "source": []
  },
  {
   "cell_type": "code",
   "execution_count": null,
   "metadata": {
    "collapsed": true,
    "deletable": true,
    "editable": true
   },
   "outputs": [],
   "source": []
  },
  {
   "cell_type": "code",
   "execution_count": 1,
   "metadata": {
    "collapsed": false,
    "deletable": true,
    "editable": true
   },
   "outputs": [
    {
     "data": {
      "text/plain": [
       "-200"
      ]
     },
     "execution_count": 1,
     "metadata": {},
     "output_type": "execute_result"
    }
   ],
   "source": [
    "int(-200)"
   ]
  },
  {
   "cell_type": "code",
   "execution_count": null,
   "metadata": {
    "collapsed": true,
    "deletable": true,
    "editable": true
   },
   "outputs": [],
   "source": []
  },
  {
   "cell_type": "code",
   "execution_count": null,
   "metadata": {
    "collapsed": true,
    "deletable": true,
    "editable": true
   },
   "outputs": [],
   "source": []
  },
  {
   "cell_type": "code",
   "execution_count": null,
   "metadata": {
    "collapsed": true,
    "deletable": true,
    "editable": true
   },
   "outputs": [],
   "source": []
  },
  {
   "cell_type": "code",
   "execution_count": null,
   "metadata": {
    "collapsed": true,
    "deletable": true,
    "editable": true
   },
   "outputs": [],
   "source": []
  },
  {
   "cell_type": "code",
   "execution_count": null,
   "metadata": {
    "collapsed": true,
    "deletable": true,
    "editable": true
   },
   "outputs": [],
   "source": []
  },
  {
   "cell_type": "code",
   "execution_count": null,
   "metadata": {
    "collapsed": true,
    "deletable": true,
    "editable": true
   },
   "outputs": [],
   "source": []
  },
  {
   "cell_type": "code",
   "execution_count": null,
   "metadata": {
    "collapsed": true,
    "deletable": true,
    "editable": true
   },
   "outputs": [],
   "source": []
  },
  {
   "cell_type": "code",
   "execution_count": null,
   "metadata": {
    "collapsed": true,
    "deletable": true,
    "editable": true
   },
   "outputs": [],
   "source": []
  },
  {
   "cell_type": "code",
   "execution_count": null,
   "metadata": {
    "collapsed": true,
    "deletable": true,
    "editable": true
   },
   "outputs": [],
   "source": []
  }
 ],
 "metadata": {
  "kernelspec": {
   "display_name": "Python 3",
   "language": "python",
   "name": "python3"
  },
  "language_info": {
   "codemirror_mode": {
    "name": "ipython",
    "version": 3
   },
   "file_extension": ".py",
   "mimetype": "text/x-python",
   "name": "python",
   "nbconvert_exporter": "python",
   "pygments_lexer": "ipython3",
   "version": "3.6.4"
  }
 },
 "nbformat": 4,
 "nbformat_minor": 2
}

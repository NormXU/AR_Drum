{
 "cells": [
  {
   "cell_type": "code",
   "execution_count": 1,
   "metadata": {
    "collapsed": true,
    "deletable": true,
    "editable": true
   },
   "outputs": [],
   "source": [
    "import sys\n",
    "import os.path as osp\n",
    "\n",
    "import numpy as np\n",
    "import cv2\n",
    "import sys"
   ]
  },
  {
   "cell_type": "code",
   "execution_count": 2,
   "metadata": {
    "collapsed": true,
    "deletable": true,
    "editable": true
   },
   "outputs": [],
   "source": [
    "MHI_DURATION = 20\n",
    "DEFAULT_THRESHOLD = 32\n",
    "cap = cv2.VideoCapture(0)"
   ]
  },
  {
   "cell_type": "code",
   "execution_count": 3,
   "metadata": {
    "collapsed": false,
    "deletable": true,
    "editable": true
   },
   "outputs": [],
   "source": [
    "\n",
    "while(1):\n",
    "    ret, frame = cap.read()\n",
    "    frame = cv2.flip(frame, 1)\n",
    "    #gray = np.array(cv2.cvtColor(frame,cv2.COLOR_RGB2GRAY))\n",
    "    #img = cv2.GaussianBlur(img, (3, 3), 0.5)\n",
    "    h, w = frame.shape[:2]\n",
    "    prev_frame = frame.copy()\n",
    "    motion_history = np.zeros((h, w), np.float32)\n",
    "    timestamp = 0\n",
    "    \n",
    "    while(1):\n",
    "        # Calculate difference btw current frame and previous frame\n",
    "        ret, frame = cap.read()\n",
    "        frame = cv2.flip(frame, 1)\n",
    "        frame_diff = cv2.absdiff(frame, prev_frame)\n",
    "        gray_diff = cv2.cvtColor(frame_diff, cv2.COLOR_BGR2GRAY)\n",
    "        #ret, fgmask = cv2.threshold(gray_diff, DEFAULT_THRESHOLD, 1, cv2.THRESH_BINARY)\n",
    "        _,fgmask = cv2.threshold(gray_diff, DEFAULT_THRESHOLD, 255, cv2.THRESH_BINARY)\n",
    "        timestamp += 1\n",
    "    \n",
    "        cv2.motempl.updateMotionHistory(fgmask, motion_history, timestamp, MHI_DURATION)\n",
    "        mh = np.uint8(np.clip((motion_history-(timestamp-MHI_DURATION)) / MHI_DURATION, 0, 1)*255)\n",
    "        cv2.imshow('motempl', mh)\n",
    "        prev_frame = frame.copy()\n",
    "        #_,th3 = cv2.threshold(img, 150, 255, cv2.THRESH_BINARY)\n",
    "        \n",
    "        cv2.imshow('hand',fgmask)\n",
    "        if cv2.waitKey(1) & 0xFF == ord('q'):\n",
    "            break\n",
    "    break\n",
    "        \n",
    "cv2.destroyAllWindows()\n",
    "cap.release()   "
   ]
  },
  {
   "cell_type": "code",
   "execution_count": 7,
   "metadata": {
    "collapsed": true,
    "deletable": true,
    "editable": true
   },
   "outputs": [],
   "source": [
    "cv2.destroyAllWindows()\n",
    "cap.release()   "
   ]
  },
  {
   "cell_type": "code",
   "execution_count": null,
   "metadata": {
    "collapsed": true,
    "deletable": true,
    "editable": true
   },
   "outputs": [],
   "source": []
  }
 ],
 "metadata": {
  "kernelspec": {
   "display_name": "Python 3",
   "language": "python",
   "name": "python3"
  },
  "language_info": {
   "codemirror_mode": {
    "name": "ipython",
    "version": 3
   },
   "file_extension": ".py",
   "mimetype": "text/x-python",
   "name": "python",
   "nbconvert_exporter": "python",
   "pygments_lexer": "ipython3",
   "version": "3.6.4"
  }
 },
 "nbformat": 4,
 "nbformat_minor": 2
}

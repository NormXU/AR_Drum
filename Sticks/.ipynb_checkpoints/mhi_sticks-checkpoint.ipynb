{
 "cells": [
  {
   "cell_type": "code",
   "execution_count": 1,
   "metadata": {},
   "outputs": [
    {
     "name": "stdout",
     "output_type": "stream",
     "text": [
      "pygame 1.9.4\n",
      "Hello from the pygame community. https://www.pygame.org/contribute.html\n"
     ]
    }
   ],
   "source": [
    "import sys\n",
    "import os.path as osp\n",
    "import pygame\n",
    "import numpy as np\n",
    "import cv2\n",
    "import sys\n",
    "import time "
   ]
  },
  {
   "cell_type": "code",
   "execution_count": 2,
   "metadata": {},
   "outputs": [],
   "source": [
    "MHI_DURATION = 0.5\n",
    "DEFAULT_THRESHOLD = 32\n",
    "MAX_TIME_DELTA = 0.25\n",
    "MIN_TIME_DELTA = 0.05\n",
    "# Load Sound Effect\n",
    "pygame.init()\n",
    "s = s = pygame.mixer.Sound('Dong.WAV')\n",
    "cap = cv2.VideoCapture(0)"
   ]
  },
  {
   "cell_type": "code",
   "execution_count": 3,
   "metadata": {},
   "outputs": [],
   "source": [
    "\n",
    "while(1):\n",
    "    ret, frame = cap.read()\n",
    "    frame = cv2.flip(frame, 1)\n",
    "    m_pre = None\n",
    "    n_pre = None\n",
    "    \n",
    "    \n",
    "    \n",
    "    h, w = frame.shape[:2]\n",
    "    prev_frame = frame.copy()\n",
    "    motion_history = np.zeros((h, w), np.float32)\n",
    "    mask_map = np.zeros((h, w), np.uint8)\n",
    "    timestamp = 0\n",
    "    \n",
    "    \n",
    "    \n",
    "    while(1):\n",
    "        # Calculate difference btw current frame and previous frame\n",
    "        ret, frame = cap.read()\n",
    "        frame = cv2.flip(frame, 1)\n",
    "        frame_diff = cv2.absdiff(frame, prev_frame)\n",
    "        gray_diff = cv2.cvtColor(frame_diff, cv2.COLOR_BGR2GRAY)\n",
    "        #ret, fgmask = cv2.threshold(gray_diff, DEFAULT_THRESHOLD, 1, cv2.THRESH_BINARY)\n",
    "        _,fgmask = cv2.threshold(gray_diff, DEFAULT_THRESHOLD, 255, cv2.THRESH_BINARY)\n",
    "        timestamp += 1\n",
    "    \n",
    "        cv2.motempl.updateMotionHistory(fgmask, motion_history, timestamp, MHI_DURATION)\n",
    "        mh = np.uint8(np.clip((motion_history-(timestamp-MHI_DURATION)) / MHI_DURATION, 0, 1)*255)\n",
    "        kernel = np.ones((5,5))\n",
    "        \n",
    "        \n",
    "        try:\n",
    "            frame_show = frame.copy()\n",
    "            \n",
    "            dilate_mask = cv2.dilate(fgmask,kernel,iterations = 6)\n",
    "            potential_stick = cv2.bitwise_and(frame_show,frame_show,mask = fgmask)\n",
    "            \n",
    "            # In order to delete hand effect, we firstlt detect hand with skin detector\n",
    "            \n",
    "            resColored = cv2.bitwise_and(frame_show,frame_show,mask = dilate_mask)\n",
    "            \n",
    "            blur = cv2.blur(resColored,(3,3), 0)\n",
    "            hsv = cv2.cvtColor(blur, cv2.COLOR_BGR2HSV)\n",
    "            lower_range = np.array([2,0,0])\n",
    "            upper_range = np.array([16,255,255])\n",
    "    \n",
    "            Hand_mask = cv2.inRange(hsv,lower_range,upper_range)\n",
    "            filtered = cv2.GaussianBlur(Hand_mask, (15,15), 1)\n",
    "            ret,thresh = cv2.threshold(filtered, 127, 255, 0)\n",
    "            DeleteHand_mask = cv2.dilate(thresh,kernel,iterations = 10)\n",
    "            \n",
    "            [x_coor,y_coor] = np.where(DeleteHand_mask==255)\n",
    "            \n",
    "            dilate_mask[x_coor,y_coor] = 0\n",
    "            \n",
    "            \n",
    "            # Draw the contours with maximum area\n",
    "            _,contours,hierarchy= cv2.findContours(dilate_mask,cv2.RETR_TREE,cv2.CHAIN_APPROX_SIMPLE)\n",
    "            areas = [cv2.contourArea(c) for c in contours]\n",
    "            if np.max(areas) > 1200:\n",
    "                max_index = np.argmax(areas)\n",
    "                cnt=contours[max_index]\n",
    "                for c in cnt:\n",
    "                    cv2.drawContours(frame_show, [c], 0, (0,255,0), 3)\n",
    "                x,y,w,h = cv2.boundingRect(cnt)\n",
    "                cv2.rectangle(frame_show,(x,y),(x+w,y+h),(0,255,0),2)\n",
    "                m = int(x+ 0.5*w)\n",
    "                n = int(y+ 0.5*h)\n",
    "                cv2.circle(frame_show,(m,n), 25, (255,0,0), 10)\n",
    "            \n",
    "                \n",
    "                # Set Flag and Play Sound Effect\n",
    "                if m_pre is None and n_pre is None:\n",
    "                    m_pre = m\n",
    "                    n_pre = n\n",
    "                    \n",
    "                else:\n",
    "                    #if (n_pre-n>30):\n",
    "                    #    cv2.putText(frame_show,\"Go Up\", (50,50), cv2.FONT_HERSHEY_SIMPLEX, 2, 2)\n",
    "                    if (n_pre-n<-40):\n",
    "                        cv2.putText(frame_show,\"Hit\", (50,50), cv2.FONT_HERSHEY_SIMPLEX, 2, 2)\n",
    "                        s.play()\n",
    "                        \n",
    "                    #print(n)\n",
    "                    n_pre = n\n",
    "                \n",
    "                \n",
    "                \n",
    "\n",
    "            cv2.imshow('raw',frame_show)\n",
    "            #cv2.imshow('mhi',label_hue)\n",
    "            cv2.imshow('im',resColored)\n",
    "            cv2.imshow('DeleteHand_mask',DeleteHand_mask)\n",
    "            \n",
    "        except:\n",
    "            pass\n",
    "        \n",
    "        \n",
    "        \n",
    "        #cv2.imshow('motion', mg_mask)\n",
    "        prev_frame = frame.copy()\n",
    "        cv2.imshow('dilate_mask', dilate_mask)\n",
    "        \n",
    "        \n",
    "        \n",
    "        \n",
    "        if cv2.waitKey(1) & 0xFF == ord('q'):\n",
    "            break\n",
    "    break\n",
    "        \n",
    "cv2.destroyAllWindows()\n",
    "cap.release()   "
   ]
  },
  {
   "cell_type": "code",
   "execution_count": 4,
   "metadata": {},
   "outputs": [],
   "source": [
    "cv2.destroyAllWindows()\n",
    "cap.release()   "
   ]
  },
  {
   "cell_type": "code",
   "execution_count": 5,
   "metadata": {},
   "outputs": [],
   "source": [
    "flag = [0,0]"
   ]
  },
  {
   "cell_type": "code",
   "execution_count": 180,
   "metadata": {},
   "outputs": [],
   "source": [
    "flag[0] = flag[0] ^ 1"
   ]
  },
  {
   "cell_type": "code",
   "execution_count": 181,
   "metadata": {},
   "outputs": [
    {
     "data": {
      "text/plain": [
       "[1, 0]"
      ]
     },
     "execution_count": 181,
     "metadata": {},
     "output_type": "execute_result"
    }
   ],
   "source": [
    "flag"
   ]
  },
  {
   "cell_type": "code",
   "execution_count": 15,
   "metadata": {},
   "outputs": [
    {
     "data": {
      "text/plain": [
       "<Channel at 0x273a834ef30>"
      ]
     },
     "execution_count": 15,
     "metadata": {},
     "output_type": "execute_result"
    }
   ],
   "source": [
    "\n",
    "\n"
   ]
  },
  {
   "cell_type": "code",
   "execution_count": null,
   "metadata": {
    "collapsed": true
   },
   "outputs": [],
   "source": []
  }
 ],
 "metadata": {
  "kernelspec": {
   "display_name": "Python 3",
   "language": "python",
   "name": "python3"
  },
  "language_info": {
   "codemirror_mode": {
    "name": "ipython",
    "version": 3
   },
   "file_extension": ".py",
   "mimetype": "text/x-python",
   "name": "python",
   "nbconvert_exporter": "python",
   "pygments_lexer": "ipython3",
   "version": "3.6.4"
  }
 },
 "nbformat": 4,
 "nbformat_minor": 2
}

{
 "cells": [
  {
   "cell_type": "code",
   "execution_count": null,
   "metadata": {
    "scrolled": true
   },
   "outputs": [
    {
     "name": "stdout",
     "output_type": "stream",
     "text": [
      "Waiting to receive messages...\n",
      "Received message: 1\n",
      "Received message: 1\n",
      "Received message: 1\n",
      "Received message: 1\n",
      "Received message: 1\n",
      "Received message: 1\n",
      "Received message: 1\n",
      "Received message: 1\n",
      "Received message: 1\n",
      "Received message: 1\n",
      "Received message: 1\n",
      "Received message: 1\n",
      "Received message: 1\n",
      "Received message: 1\n",
      "Received message: 1\n",
      "Received message: 1\n",
      "Received message: 1\n",
      "Received message: 1\n",
      "Received message: 1\n",
      "Received message: 1\n",
      "Received message: 1\n",
      "Received message: 1\n",
      "Received message: 1\n",
      "Received message: 1\n",
      "Received message: 1\n",
      "Received message: 1\n",
      "Received message: 1\n",
      "Received message: 1\n",
      "Received message: 1\n",
      "Received message: 1\n",
      "Received message: 1\n",
      "Received message: 1\n",
      "Received message: 1\n",
      "Received message: 1\n",
      "Received message: 1\n",
      "Received message: 1\n",
      "Received message: 1\n",
      "Received message: 1\n",
      "Received message: 1\n",
      "Received message: 1\n",
      "Received message: 1\n",
      "Received message: 1\n",
      "Received message: 1\n",
      "Received message: 1\n",
      "Received message: 1\n",
      "Received message: 1\n",
      "Received message: 1\n",
      "Received message: 1\n",
      "Received message: 1\n",
      "Received message: 1\n",
      "Received message: 1\n",
      "Received message: 1\n",
      "Received message: 1\n",
      "Received message: 1\n",
      "Received message: 1\n",
      "Received message: 1\n",
      "Received message: 1\n",
      "Received message: 1\n",
      "Received message: 1\n",
      "Received message: 1\n",
      "Received message: 1\n",
      "Received message: 1\n",
      "Received message: 1\n",
      "Received message: 1\n"
     ]
    }
   ],
   "source": [
    "\n",
    "# Message Receiver\n",
    "import os\n",
    "from socket import *\n",
    "host = \"\"\n",
    "port = 13000\n",
    "buf = 1024\n",
    "addr = (host, port)\n",
    "UDPSock = socket(AF_INET, SOCK_DGRAM)\n",
    "UDPSock.bind(addr)\n",
    "print ('Waiting to receive messages...')\n",
    "while True:\n",
    "    (data, addr) = UDPSock.recvfrom(buf)\n",
    "    data = data.decode()\n",
    "    if data == '1':\n",
    "        print (\"Received message: \" + data)\n",
    "    if data == \"exit\":\n",
    "        break\n",
    "UDPSock.close()\n",
    "os._exit(0)\n",
    "  "
   ]
  },
  {
   "cell_type": "code",
   "execution_count": null,
   "metadata": {},
   "outputs": [
    {
     "name": "stdout",
     "output_type": "stream",
     "text": [
      "Enter message to send or type 'exit': 1\n",
      "1\n",
      "Enter message to send or type 'exit': 1\n",
      "1\n",
      "Enter message to send or type 'exit': 12\n",
      "12\n",
      "Enter message to send or type 'exit': 1\n",
      "1\n",
      "Enter message to send or type 'exit': 0\n",
      "0\n",
      "Enter message to send or type 'exit': '1'\n",
      "'1'\n",
      "Enter message to send or type 'exit': 1\n",
      "1\n",
      "Enter message to send or type 'exit': 0\n",
      "0\n",
      "Enter message to send or type 'exit': 1\n",
      "1\n",
      "Enter message to send or type 'exit': 1\n",
      "1\n",
      "Enter message to send or type 'exit': 1\n",
      "1\n",
      "Enter message to send or type 'exit': 1\n",
      "1\n",
      "Enter message to send or type 'exit': 1\n",
      "1\n",
      "Enter message to send or type 'exit': 1\n",
      "1\n",
      "Enter message to send or type 'exit': 1\n",
      "1\n",
      "Enter message to send or type 'exit': 1\n",
      "1\n",
      "Enter message to send or type 'exit': 1\n",
      "1\n",
      "Enter message to send or type 'exit': 1\n",
      "1\n",
      "Enter message to send or type 'exit': 1\n",
      "1\n",
      "Enter message to send or type 'exit': 1\n",
      "1\n"
     ]
    }
   ],
   "source": [
    "\n",
    "# Message Sender\n",
    "import os\n",
    "from socket import *\n",
    "host = \"10.194.86.156\" # set to IP address of target computer\n",
    "port = 1234\n",
    "addr = (host, port)\n",
    "UDPSock = socket(AF_INET, SOCK_DGRAM)\n",
    "while True:\n",
    "    data = input(\"Enter message to send or type 'exit': \")\n",
    "    print(data)\n",
    "    data = data.encode()\n",
    "    UDPSock.sendto(data, addr)\n",
    "    if data == \"exit\":\n",
    "        break\n",
    "UDPSock.close()\n",
    "os._exit(0)"
   ]
  },
  {
   "cell_type": "code",
   "execution_count": 6,
   "metadata": {},
   "outputs": [
    {
     "name": "stdout",
     "output_type": "stream",
     "text": [
      "Enter message to send or type 'exit': 12\n"
     ]
    }
   ],
   "source": [
    "# Message Sender\n",
    "import os\n",
    "from socket import *\n",
    "host = \"10.0.0.117\" # set to IP address of target computer\n",
    "port = 1234\n",
    "addr = (host, port)\n",
    "UDPSock = socket(AF_INET, SOCK_DGRAM)\n",
    "data = input(\"Enter message to send or type 'exit': \")"
   ]
  },
  {
   "cell_type": "code",
   "execution_count": 7,
   "metadata": {},
   "outputs": [],
   "source": [
    "data = data.encode()"
   ]
  },
  {
   "cell_type": "code",
   "execution_count": 8,
   "metadata": {},
   "outputs": [
    {
     "data": {
      "text/plain": [
       "b'12'"
      ]
     },
     "execution_count": 8,
     "metadata": {},
     "output_type": "execute_result"
    }
   ],
   "source": [
    "data"
   ]
  },
  {
   "cell_type": "code",
   "execution_count": 5,
   "metadata": {},
   "outputs": [
    {
     "ename": "AttributeError",
     "evalue": "'int' object has no attribute 'encode'",
     "output_type": "error",
     "traceback": [
      "\u001b[1;31m---------------------------------------------------------------------------\u001b[0m",
      "\u001b[1;31mAttributeError\u001b[0m                            Traceback (most recent call last)",
      "\u001b[1;32m<ipython-input-5-f6c522c5232a>\u001b[0m in \u001b[0;36m<module>\u001b[1;34m()\u001b[0m\n\u001b[1;32m----> 1\u001b[1;33m \u001b[0mdata\u001b[0m\u001b[1;33m.\u001b[0m\u001b[0mencode\u001b[0m\u001b[1;33m(\u001b[0m\u001b[1;33m)\u001b[0m\u001b[1;33m\u001b[0m\u001b[0m\n\u001b[0m",
      "\u001b[1;31mAttributeError\u001b[0m: 'int' object has no attribute 'encode'"
     ]
    }
   ],
   "source": [
    "data.encode()"
   ]
  },
  {
   "cell_type": "code",
   "execution_count": null,
   "metadata": {},
   "outputs": [],
   "source": []
  }
 ],
 "metadata": {
  "kernelspec": {
   "display_name": "Python 3",
   "language": "python",
   "name": "python3"
  },
  "language_info": {
   "codemirror_mode": {
    "name": "ipython",
    "version": 3
   },
   "file_extension": ".py",
   "mimetype": "text/x-python",
   "name": "python",
   "nbconvert_exporter": "python",
   "pygments_lexer": "ipython3",
   "version": "3.6.4"
  }
 },
 "nbformat": 4,
 "nbformat_minor": 2
}

{
 "cells": [
  {
   "cell_type": "code",
   "execution_count": null,
   "metadata": {
    "scrolled": true
   },
   "outputs": [
    {
     "name": "stdout",
     "output_type": "stream",
     "text": [
      "Waiting to receive messages...\n",
      "Received message: 123\n",
      "Received message: 133\n",
      "Received message: 123\n",
      "Received message: 123\n",
      "Received message: 123\n",
      "Received message: 223\n"
     ]
    }
   ],
   "source": [
    "\n",
    "# Message Receiver\n",
    "import os\n",
    "from socket import *\n",
    "host = \"\"\n",
    "port = 13000\n",
    "buf = 1024\n",
    "addr = (host, port)\n",
    "UDPSock = socket(AF_INET, SOCK_DGRAM)\n",
    "UDPSock.bind(addr)\n",
    "print ('Waiting to receive messages...')\n",
    "while True:\n",
    "    (data, addr) = UDPSock.recvfrom(buf)\n",
    "    data = data.decode()\n",
    "    print (\"Received message: \" + data)\n",
    "    if data == \"exit\":\n",
    "        break\n",
    "UDPSock.close()\n",
    "os._exit(0)\n",
    "  "
   ]
  },
  {
   "cell_type": "code",
   "execution_count": null,
   "metadata": {},
   "outputs": [],
   "source": [
    "\n",
    "# Message Sender\n",
    "import os\n",
    "from socket import *\n",
    "host = \"10.0.0.121\" # set to IP address of target computer\n",
    "port = 13000\n",
    "addr = (host, port)\n",
    "UDPSock = socket(AF_INET, SOCK_DGRAM)\n",
    "while True:\n",
    "    data = input(\"Enter message to send or type 'exit': \")\n",
    "    data = data.encode()\n",
    "    UDPSock.sendto(data, addr)\n",
    "    if data == \"exit\":\n",
    "        break\n",
    "UDPSock.close()\n",
    "os._exit(0)"
   ]
  }
 ],
 "metadata": {
  "kernelspec": {
   "display_name": "Python 3",
   "language": "python",
   "name": "python3"
  },
  "language_info": {
   "codemirror_mode": {
    "name": "ipython",
    "version": 3
   },
   "file_extension": ".py",
   "mimetype": "text/x-python",
   "name": "python",
   "nbconvert_exporter": "python",
   "pygments_lexer": "ipython3",
   "version": "3.6.5"
  }
 },
 "nbformat": 4,
 "nbformat_minor": 2
}
